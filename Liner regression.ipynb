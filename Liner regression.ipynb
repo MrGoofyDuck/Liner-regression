{
 "cells": [
  {
   "cell_type": "markdown",
   "metadata": {},
   "source": [
    "# Liner regression\n"
   ]
  },
  {
   "cell_type": "markdown",
   "metadata": {},
   "source": [
    "\n",
    "Linear regression is a statistical method used to model the relationship between a dependent variable and one or more independent variables by fitting a linear equation to observed data. The primary goal is to establish a linear relationship that can be used to make predictions.  The primary goal is to establish a linear relationship that can be used to make predictions.\n",
    "Linear regression is widely used in various fields, including economics, finance, biology, and social sciences, for predictive modeling and understanding the relationship between variables.\n"
   ]
  },
  {
   "cell_type": "code",
   "execution_count": 8,
   "metadata": {},
   "outputs": [
    {
     "data": {
      "image/png": "[encoded data removed]",
      "text/plain": [
       "<Figure size 640x480 with 1 Axes>"
      ]
     },
     "metadata": {},
     "output_type": "display_data"
    }
   ],
   "source": [
    "\n",
    "import sys\n",
    "import matplotlib\n",
    "matplotlib.use('Agg')\n",
    "%matplotlib inline\n",
    "\n",
    "import pandas as pd\n",
    "import matplotlib.pyplot as plt\n",
    "from scipy import stats\n",
    "\n",
    "full_health_data = pd.read_csv(\"C:/Users/Admin/Desktop/data (3).csv\", header=0, sep=\",\")\n",
    "\n",
    "x = full_health_data[\"Maxpulse\"]\n",
    "y = full_health_data[\"Calories\"]\n",
    "\n",
    "slope, intercept, r, p, std_err = stats.linregress(x, y)\n",
    "\n",
    "def myfunc(x):\n",
    " return slope * x + intercept\n",
    "\n",
    "mymodel = list(map(myfunc, x))\n",
    "\n",
    "plt.scatter(x, y)\n",
    "plt.plot(x, mymodel)\n",
    "plt.ylim(ymin=0, ymax=2000)\n",
    "plt.xlim(xmin=0, xmax=200)\n",
    "plt.xlabel(\"Maxpulse\")\n",
    "plt.ylabel (\"Calories\")\n",
    "plt.show()\n",
    "\n",
    "\n",
    "\n",
    "sys.stdout.flush()\n"
   ]
  },
  {
   "cell_type": "markdown",
   "metadata": {},
   "source": [
    "# Regression table "
   ]
  },
  {
   "cell_type": "markdown",
   "metadata": {},
   "source": [
    "A regression table is a summary table that presents the results of a regression analysis. It typically includes key statistics and information about the regression model, such as coefficients, standard errors, p-values, and goodness-of-fit measures.\n",
    "\n",
    "Here are some common components you might find in a regression table:"
   ]
  },
  {
   "cell_type": "markdown",
   "metadata": {},
   "source": [
    "**Dependent Variable:** The variable that is being predicted or explained by the independent variables.\n",
    "\n",
    "**Independent Variables:** The variables used to predict or explain the dependent variable.\n",
    "\n",
    "**Regression Coefficients:** Estimates of the effects of the independent variables on the dependent variable. These coefficients represent the change in the dependent variable associated with a one-unit change in the independent variable, holding all other variables constant.\n",
    "\n",
    "**Standard Errors:** Measures of the uncertainty or variability associated with the estimated coefficients.\n",
    "\n",
    "**P-values:** The probability of observing the coefficient estimate (or more extreme) if the null hypothesis is true. Low p-values (< 0.05) indicate that the coefficient is statistically significant.\n",
    "\n",
    "**R-squared (and adjusted R-squared):** Measures of how well the independent variables explain the variation in the dependent variable. R-squared represents the proportion of variance in the dependent variable that is explained by the independent variables."
   ]
  },
  {
   "cell_type": "code",
   "execution_count": 10,
   "metadata": {},
   "outputs": [
    {
     "name": "stdout",
     "output_type": "stream",
     "text": [
      "                            OLS Regression Results                            \n",
      "==============================================================================\n",
      "Dep. Variable:                  Pulse   R-squared:                       0.619\n",
      "Model:                            OLS   Adj. R-squared:                  0.616\n",
      "Method:                 Least Squares   F-statistic:                     270.9\n",
      "Date:                Sun, 21 Apr 2024   Prob (F-statistic):           8.60e-37\n",
      "Time:                        17:10:28   Log-Likelihood:                -609.89\n",
      "No. Observations:                 169   AIC:                             1224.\n",
      "Df Residuals:                     167   BIC:                             1230.\n",
      "Df Model:                           1                                         \n",
      "Covariance Type:            nonrobust                                         \n",
      "==============================================================================\n",
      "                 coef    std err          t      P>|t|      [0.025      0.975]\n",
      "------------------------------------------------------------------------------\n",
      "Intercept     14.4635      5.692      2.541      0.012       3.225      25.702\n",
      "Maxpulse       0.6938      0.042     16.459      0.000       0.611       0.777\n",
      "==============================================================================\n",
      "Omnibus:                       70.247   Durbin-Watson:                   1.899\n",
      "Prob(Omnibus):                  0.000   Jarque-Bera (JB):              368.168\n",
      "Skew:                           1.444   Prob(JB):                     1.13e-80\n",
      "Kurtosis:                       9.629   Cond. No.                     1.11e+03\n",
      "==============================================================================\n",
      "\n",
      "Notes:\n",
      "[1] Standard Errors assume that the covariance matrix of the errors is correctly specified.\n",
      "[2] The condition number is large, 1.11e+03. This might indicate that there are\n",
      "strong multicollinearity or other numerical problems.\n"
     ]
    }
   ],
   "source": [
    "import pandas as pd\n",
    "import statsmodels.formula.api as smf\n",
    "\n",
    "full_health_data = pd.read_csv(\"C:/Users/Admin/Desktop/data (3).csv\", header=0, sep=\",\")\n",
    "\n",
    "model = smf.ols('Pulse ~ Maxpulse', data = full_health_data)\n",
    "results = model.fit()\n",
    "print(results.summary())\n"
   ]
  },
  {
   "cell_type": "markdown",
   "metadata": {},
   "source": [
    "# Regression info"
   ]
  },
  {
   "cell_type": "markdown",
   "metadata": {},
   "source": [
    "\"Regression information\" generally refers to the various statistical details and results obtained from a regression analysis. This information includes:\n",
    "\n",
    "1. **Model Summary**: A concise overview of the regression model, including the model equation, the number of observations used, and any relevant model assumptions or considerations.\n",
    "\n",
    "2. **Coefficient Estimates**: Estimates of the coefficients of the regression equation, indicating the strength and direction of the relationship between the independent variables and the dependent variable. These coefficients represent the change in the dependent variable associated with a one-unit change in the independent variable, holding other variables constant.\n",
    "\n",
    "3. **Standard Errors**: Measures of the precision or uncertainty associated with the coefficient estimates. Standard errors provide information about the variability of the coefficient estimates and are used to calculate confidence intervals and perform hypothesis tests.\n",
    "\n",
    "4. **Diagnostic Tests**: Additional statistical tests or checks performed to assess the validity of the regression model, including tests for multicollinearity, heteroscedasticity, autocorrelation, and influential data points."
   ]
  },
  {
   "cell_type": "markdown",
   "metadata": {},
   "source": [
    "# Regression Coefficients"
   ]
  },
  {
   "cell_type": "markdown",
   "metadata": {},
   "source": [
    "Regression coefficients, or simply coefficients, are the estimated parameters in a regression model that represent the strength and direction of the relationship between the independent variables and the dependent variable. \n",
    "\n",
    "Here's what regression coefficients signify:\n"
   ]
  },
  {
   "cell_type": "markdown",
   "metadata": {},
   "source": [
    "1. **Magnitude (Size)**: The coefficient indicates the magnitude of the effect of a one-unit change in the independent variable on the dependent variable, holding other variables constant. For example, if the coefficient for a predictor variable is 0.5, it means that for every one-unit increase in that predictor variable, the dependent variable is expected to increase by 0.5 units (when all other variables are held constant).\n",
    "\n",
    "2. **Direction**: The sign of the coefficient (positive or negative) indicates the direction of the relationship between the independent variable and the dependent variable. A positive coefficient indicates a positive relationship (as the independent variable increases, the dependent variable also increases), while a negative coefficient indicates a negative relationship (as the independent variable increases, the dependent variable decreases).\n",
    "\n",
    "3. **Statistical Significance**: Regression coefficients are typically accompanied by standard errors and p-values, which indicate whether the coefficient is statistically different from zero. A coefficient with a low p-value (usually below a significance level like 0.05) is considered statistically significant, suggesting that the relationship between the independent variable and the dependent variable is unlikely to be due to random chance.\n",
    "\n",
    "4. **Interpretation**: When interpreting regression coefficients, it's important to consider the scale of the variables involved and any transformations or interactions that may be present in the model. Additionally, coefficients should be interpreted in the context of the specific research question and the theoretical framework underlying the analysis.\n"
   ]
  },
  {
   "cell_type": "code",
   "execution_count": 11,
   "metadata": {},
   "outputs": [
    {
     "name": "stdout",
     "output_type": "stream",
     "text": [
      "Regression Coefficients:\n",
      "[1. 1.]\n"
     ]
    }
   ],
   "source": [
    "import numpy as np\n",
    "import statsmodels.api as sm\n",
    "\n",
    "# Sample data\n",
    "X = np.array([1, 2, 3, 4, 5])  # Independent variable\n",
    "y = np.array([2, 3, 4, 5, 6])  # Dependent variable\n",
    "\n",
    "# Add constant for intercept term\n",
    "X = sm.add_constant(X)\n",
    "\n",
    "# Fit the regression model\n",
    "model = sm.OLS(y, X).fit()\n",
    "\n",
    "# Display regression coefficients\n",
    "print(\"Regression Coefficients:\")\n",
    "print(model.params)\n"
   ]
  },
  {
   "cell_type": "markdown",
   "metadata": {},
   "source": [
    "# Regression P-Value"
   ]
  },
  {
   "cell_type": "markdown",
   "metadata": {},
   "source": [
    "A low p-value indicates that the results are statistically significant, meaning the independent variable(s) likely have a significant effect on the dependent variable. Conversely, a high p-value suggests that the results are not statistically significant, and there is insufficient evidence to conclude that there is a relationship between the variables.\n",
    "\n",
    "It's important to interpret p-values in the context of the specific analysis and to consider other factors such as effect size and practical significance alongside statistical significance.\n",
    "\n",
    "he null hypothesis can either be rejected or not.\n",
    "\n",
    "If we reject the null hypothesis, we conclude that it exist a relationship between Average_Pulse and Calorie_Burnage. The P-value is used for this conclusion.\n",
    "\n",
    "A common threshold of the P-value is 0.05.\n",
    "\n",
    "Note: A P-value of 0.05 means that 5% of the times, we will falsely reject the null hypothesis. It means that we accept that 5% of the times, we might falsely have concluded a relationship.\n",
    "\n",
    "If the P-value is lower than 0.05, we can reject the null hypothesis and conclude that it exist a relationship between the variables.\n",
    "\n",
    "However, the P-value of Average_Pulse is 0.824. So, we cannot conclude a relationship between Average_Pulse and Calorie_Burnage.\n",
    "\n",
    "It means that there is a 82.4% chance that the true coefficient of Average_Pulse is zero.\n",
    "\n",
    "The intercept is used to adjust the regression function's ability to predict more precisely. It is therefore uncommon to interpret the P-value of the intercept."
   ]
  },
  {
   "cell_type": "markdown",
   "metadata": {},
   "source": [
    "# Regression R-Squared"
   ]
  },
  {
   "cell_type": "markdown",
   "metadata": {},
   "source": [
    "R-squared, also known as the coefficient of determination, is a statistical measure that represents the proportion of the variance in the dependent variable that is explained by the independent variables in a regression model. It ranges from 0 to 1, where 0 indicates that the model does not explain any of the variability of the response data around its mean, and 1 indicates that the model explains all the variability of the response data around its mean.\n",
    "\n",
    "Higher R-squared values indicate that a larger proportion of the variance in the dependent variable is explained by the independent variables, suggesting a better fit of the model to the data. Conversely, lower R-squared values suggest that the independent variables do not explain much of the variation in the dependent variable, indicating a poorer fit of the model.\n"
   ]
  },
  {
   "cell_type": "code",
   "execution_count": 3,
   "metadata": {},
   "outputs": [
    {
     "name": "stdout",
     "output_type": "stream",
     "text": [
      "[nan, nan, nan, nan, nan, nan, nan, nan, nan, nan, nan, nan, nan, nan, nan, nan, nan, nan, nan, nan, nan, nan, nan, nan, nan, nan, nan, nan, nan, nan, nan, nan, nan, nan, nan, nan, nan, nan, nan, nan, nan, nan, nan, nan, nan, nan, nan, nan, nan, nan, nan, nan, nan, nan, nan, nan, nan, nan, nan, nan, nan, nan, nan, nan, nan, nan, nan, nan, nan, nan, nan, nan, nan, nan, nan, nan, nan, nan, nan, nan, nan, nan, nan, nan, nan, nan, nan, nan, nan, nan, nan, nan, nan, nan, nan, nan, nan, nan, nan, nan, nan, nan, nan, nan, nan, nan, nan, nan, nan, nan, nan, nan, nan, nan, nan, nan, nan, nan, nan, nan, nan, nan, nan, nan, nan, nan, nan, nan, nan, nan, nan, nan, nan, nan, nan, nan, nan, nan, nan, nan, nan, nan, nan, nan, nan, nan, nan, nan, nan, nan, nan, nan, nan, nan, nan, nan, nan, nan, nan, nan, nan, nan, nan, nan, nan, nan, nan, nan, nan]\n"
     ]
    },
    {
     "data": {
      "image/png": "[encoded data removed]",
      "text/plain": [
       "<Figure size 640x480 with 1 Axes>"
      ]
     },
     "metadata": {},
     "output_type": "display_data"
    }
   ],
   "source": [
    "\n",
    "import sys\n",
    "import matplotlib\n",
    "matplotlib.use('Agg')\n",
    "\n",
    "import pandas as pd\n",
    "import matplotlib.pyplot as plt\n",
    "from scipy import stats\n",
    "%matplotlib inline \n",
    "\n",
    "full_health_data = pd.read_csv(\"C:/Users/Admin/Desktop/data (3).csv\", header=0, sep=\",\")\n",
    "\n",
    "x = full_health_data[\"Duration\"]\n",
    "y = full_health_data[\"Calories\"]\n",
    "\n",
    "slope, intercept, r, p, std_err = stats.linregress(x, y)\n",
    "\n",
    "def myfunc(x):\n",
    " return slope * x + intercept\n",
    "\n",
    "mymodel = list(map(myfunc, x))\n",
    "\n",
    "print(mymodel)\n",
    "\n",
    "plt.scatter(x, y)\n",
    "plt.plot(x, mymodel)\n",
    "plt.ylim(ymin=0, ymax=2000)\n",
    "plt.xlim(xmin=0, xmax=200)\n",
    "plt.xlabel(\"Duration\")\n",
    "plt.ylabel (\"Calories\")\n",
    "plt.show()\n",
    "\n",
    "\n",
    "sys.stdout.flush()\n"
   ]
  }
 ],
 "metadata": {
  "kernelspec": {
   "display_name": "base",
   "language": "python",
   "name": "python3"
  },
  "language_info": {
   "codemirror_mode": {
    "name": "ipython",
    "version": 3
   },
   "file_extension": ".py",
   "mimetype": "text/x-python",
   "name": "python",
   "nbconvert_exporter": "python",
   "pygments_lexer": "ipython3",
   "version": "3.11.5"
  }
 },
 "nbformat": 4,
 "nbformat_minor": 2
}
